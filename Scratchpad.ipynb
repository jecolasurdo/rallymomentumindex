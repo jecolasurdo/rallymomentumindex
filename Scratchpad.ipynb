{
 "cells": [
  {
   "cell_type": "markdown",
   "metadata": {},
   "source": [
    "# BLM Keyword Identification\n",
    "Sandboxing some simple keyword identification routines.\n",
    "Full scale work will probably not be done in a notebook, mostly exploration here."
   ]
  },
  {
   "cell_type": "code",
   "execution_count": 13,
   "metadata": {},
   "outputs": [],
   "source": [
    "from os import getcwd, listdir\n",
    "import os.path\n",
    "\n",
    "import spacy\n",
    "from toolz.curried import *"
   ]
  },
  {
   "cell_type": "code",
   "execution_count": 2,
   "metadata": {},
   "outputs": [],
   "source": [
    "nlp = spacy.load(\"en_core_web_lg\")"
   ]
  },
  {
   "cell_type": "code",
   "execution_count": 76,
   "metadata": {},
   "outputs": [
    {
     "name": "stdout",
     "output_type": "stream",
     "text": [
      "20\n",
      "4822\n"
     ]
    }
   ],
   "source": [
    "DOC_LIMIT = 20\n",
    "\n",
    "base_path = os.path.join(getcwd(), \"research/data/codex\")\n",
    "\n",
    "file_names = [f for f in listdir(base_path) if os.path.isfile(os.path.join(base_path, f)) and f.endswith(\".txt\")]\n",
    "\n",
    "doc_nums = dict()\n",
    "span_nums = dict()\n",
    "\n",
    "doc_num = 0\n",
    "span_num = 0\n",
    "for file_name in file_names[:DOC_LIMIT]:\n",
    "    with open(os.path.join(base_path, file_name), 'r') as f:\n",
    "        if not file_name in doc_nums:\n",
    "            doc_num = doc_num + 1\n",
    "            doc_nums[file_name] = doc_num\n",
    "        doc = nlp(f.read())\n",
    "    spans = spacy.util.filter_spans(\n",
    "        set(doc.ents).union(set(doc.noun_chunks)))\n",
    "    spans = [t.lower_ for t in [span for span in spans]]\n",
    "    for span in spans:\n",
    "        if not span in span_nums:\n",
    "            span_num = span_num + 1\n",
    "            span_nums[span] = span_num\n",
    "\n",
    "print(len(doc_nums))\n",
    "print(len(span_nums))"
   ]
  },
  {
   "cell_type": "code",
   "execution_count": 77,
   "metadata": {},
   "outputs": [
    {
     "data": {
      "text/plain": [
       "['pic.twitter.com/otgfrjv0nd',\n",
       " 'more cops',\n",
       " \"breonna taylor's home\",\n",
       " 'toggle menu open',\n",
       " 'hundreds -',\n",
       " 'a sign',\n",
       " 'ronald johnson',\n",
       " 'us speakers bureau',\n",
       " 'sister',\n",
       " 'the daily wildcat',\n",
       " 'the destruction',\n",
       " 'video connect',\n",
       " 'fatal police shooting',\n",
       " 'your address',\n",
       " 'the seventh street line',\n",
       " 'deliverysubscriber guidehelp',\n",
       " 'county police',\n",
       " '2 hours ago',\n",
       " 'darryl james anderson jr.',\n",
       " 'swampscott police department']"
      ]
     },
     "execution_count": 77,
     "metadata": {},
     "output_type": "execute_result"
    }
   ],
   "source": [
    "import random\n",
    "\n",
    "random.choices(list(span_nums.keys()), k=20)"
   ]
  },
  {
   "cell_type": "code",
   "execution_count": 69,
   "metadata": {},
   "outputs": [],
   "source": [
    "# get a pipeline going (probably just toolz...)\n",
    "# for each document\n",
    "# spans = doc.ents + doc.noun_chunks\n",
    "# spans = filter_spans(spans)\n",
    "# distinct\n",
    "# calculate term frequency\n",
    "# calculate inverse doc frequency"
   ]
  },
  {
   "cell_type": "code",
   "execution_count": null,
   "metadata": {},
   "outputs": [],
   "source": []
  }
 ],
 "metadata": {
  "kernelspec": {
   "display_name": "Python 3",
   "language": "python",
   "name": "python3"
  },
  "language_info": {
   "codemirror_mode": {
    "name": "ipython",
    "version": 3
   },
   "file_extension": ".py",
   "mimetype": "text/x-python",
   "name": "python",
   "nbconvert_exporter": "python",
   "pygments_lexer": "ipython3",
   "version": "3.7.7"
  }
 },
 "nbformat": 4,
 "nbformat_minor": 4
}
