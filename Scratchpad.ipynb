{
 "cells": [
  {
   "cell_type": "markdown",
   "metadata": {},
   "source": [
    "# BLM Keyword Identification\n",
    "Sandboxing some simple keyword identification routines.\n",
    "Full scale work will probably not be done in a notebook, mostly exploration here."
   ]
  },
  {
   "cell_type": "code",
   "execution_count": 96,
   "metadata": {},
   "outputs": [],
   "source": [
    "from os import getcwd, listdir\n",
    "import os.path\n",
    "\n",
    "import spacy\n",
    "from scipy import sparse"
   ]
  },
  {
   "cell_type": "code",
   "execution_count": 2,
   "metadata": {},
   "outputs": [],
   "source": [
    "nlp = spacy.load(\"en_core_web_lg\")"
   ]
  },
  {
   "cell_type": "code",
   "execution_count": 123,
   "metadata": {},
   "outputs": [
    {
     "name": "stdout",
     "output_type": "stream",
     "text": [
      "  (1, 1)\t12.0\n",
      "  (1, 2)\t2.0\n",
      "  (1, 3)\t3.0\n",
      "  (1, 4)\t1.0\n",
      "  (1, 5)\t1.0\n",
      "  (1, 6)\t1.0\n",
      "  (1, 7)\t1.0\n",
      "  (1, 8)\t3.0\n",
      "  (1, 9)\t1.0\n",
      "  (1, 10)\t1.0\n",
      "  (1, 11)\t1.0\n",
      "  (1, 12)\t1.0\n",
      "  (1, 13)\t1.0\n",
      "  (1, 14)\t1.0\n",
      "  (1, 15)\t1.0\n",
      "  (1, 16)\t12.0\n",
      "  (1, 17)\t1.0\n",
      "  (1, 18)\t2.0\n",
      "  (1, 19)\t1.0\n",
      "  (1, 20)\t1.0\n",
      "  (1, 21)\t1.0\n",
      "  (1, 22)\t1.0\n",
      "  (1, 23)\t1.0\n",
      "  (1, 24)\t1.0\n",
      "  (1, 25)\t1.0\n",
      "  :\t:\n",
      "  (20, 4798)\t4.0\n",
      "  (20, 4799)\t1.0\n",
      "  (20, 4800)\t1.0\n",
      "  (20, 4801)\t1.0\n",
      "  (20, 4802)\t2.0\n",
      "  (20, 4803)\t1.0\n",
      "  (20, 4804)\t9.0\n",
      "  (20, 4805)\t1.0\n",
      "  (20, 4806)\t1.0\n",
      "  (20, 4807)\t1.0\n",
      "  (20, 4808)\t1.0\n",
      "  (20, 4809)\t1.0\n",
      "  (20, 4810)\t1.0\n",
      "  (20, 4811)\t1.0\n",
      "  (20, 4812)\t1.0\n",
      "  (20, 4813)\t1.0\n",
      "  (20, 4814)\t1.0\n",
      "  (20, 4815)\t1.0\n",
      "  (20, 4816)\t1.0\n",
      "  (20, 4817)\t1.0\n",
      "  (20, 4818)\t7.0\n",
      "  (20, 4819)\t3.0\n",
      "  (20, 4820)\t2.0\n",
      "  (20, 4821)\t2.0\n",
      "  (20, 4822)\t1.0\n"
     ]
    }
   ],
   "source": [
    "DOC_LIMIT = 20\n",
    "\n",
    "base_path = os.path.join(getcwd(), \"research/data/codex\")\n",
    "\n",
    "file_names = [f for f in listdir(base_path) if os.path.isfile(os.path.join(base_path, f)) and f.endswith(\".txt\")]\n",
    "\n",
    "docs_m = dict()\n",
    "spans_n = dict()\n",
    "\n",
    "doc_index_m = -1\n",
    "span_index_n = -1\n",
    "M = sparse.csr_matrix((0, 0))\n",
    "for file_name in file_names[:DOC_LIMIT]:\n",
    "    with open(os.path.join(base_path, file_name), 'r') as f:\n",
    "        doc = nlp(f.read())\n",
    "    if not file_name in docs_m:\n",
    "        doc_index_m = doc_index_m + 1\n",
    "        docs_m[file_name] = doc_index_m\n",
    "        M.resize((doc_index_m+1, span_index_n+1))\n",
    "    spans = spacy.util.filter_spans(\n",
    "        set(doc.ents).union(set(doc.noun_chunks)))\n",
    "    spans = [t.lower_ for t in [span for span in spans]]\n",
    "    for span in spans:\n",
    "        if not span in spans_n:\n",
    "            span_index_n = span_index_n + 1\n",
    "            spans_n[span] = span_index_n  \n",
    "            M.resize((doc_index_m+1, span_index_n+1))\n",
    "        M[doc_index_m, span_index_n] = doc.text.lower().count(span)\n",
    "            \n",
    "print(M)"
   ]
  },
  {
   "cell_type": "code",
   "execution_count": 122,
   "metadata": {},
   "outputs": [
    {
     "name": "stdout",
     "output_type": "stream",
     "text": [
      "0.0\n"
     ]
    }
   ],
   "source": [
    "print(M[12,62])"
   ]
  },
  {
   "cell_type": "code",
   "execution_count": 166,
   "metadata": {},
   "outputs": [
    {
     "data": {
      "image/png": "[encoded data removed]",
      "text/plain": [
       "<Figure size 432x288 with 1 Axes>"
      ]
     },
     "metadata": {
      "needs_background": "light"
     },
     "output_type": "display_data"
    }
   ],
   "source": [
    "import matplotlib.pyplot as plt\n",
    "\n",
    "fig = plt.figure()\n",
    "ax = fig.add_subplot(111)\n",
    "ax.spy(M)\n",
    "ax.grid(b=True, axis='y')\n",
    "ax.set_aspect('auto')"
   ]
  },
  {
   "cell_type": "code",
   "execution_count": null,
   "metadata": {},
   "outputs": [],
   "source": []
  }
 ],
 "metadata": {
  "kernelspec": {
   "display_name": "Python 3",
   "language": "python",
   "name": "python3"
  },
  "language_info": {
   "codemirror_mode": {
    "name": "ipython",
    "version": 3
   },
   "file_extension": ".py",
   "mimetype": "text/x-python",
   "name": "python",
   "nbconvert_exporter": "python",
   "pygments_lexer": "ipython3",
   "version": "3.7.7"
  }
 },
 "nbformat": 4,
 "nbformat_minor": 4
}
