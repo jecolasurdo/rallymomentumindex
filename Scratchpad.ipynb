{
 "cells": [
  {
   "cell_type": "markdown",
   "metadata": {},
   "source": [
    "# BLM Keyword Identification\n",
    "Sandboxing some simple keyword identification routines.\n",
    "Full scale work will probably not be done in a notebook, mostly exploration here."
   ]
  },
  {
   "cell_type": "code",
   "execution_count": 1,
   "metadata": {},
   "outputs": [],
   "source": [
    "from os import getcwd, listdir\n",
    "import os.path\n",
    "from concurrent.futures import ThreadPoolExecutor, wait\n",
    "from pickle import Pickler, Unpickler\n",
    "\n",
    "import spacy\n",
    "from scipy import sparse\n",
    "import numpy as np\n",
    "import matplotlib.pyplot as plt"
   ]
  },
  {
   "cell_type": "code",
   "execution_count": 2,
   "metadata": {},
   "outputs": [],
   "source": [
    "nlp = spacy.load(\"en_core_web_lg\")"
   ]
  },
  {
   "cell_type": "markdown",
   "metadata": {},
   "source": [
    "Gather a list of codex entries to analyze."
   ]
  },
  {
   "cell_type": "code",
   "execution_count": 3,
   "metadata": {},
   "outputs": [],
   "source": [
    "DOC_LIMIT = 500\n",
    "MAX_WORKERS = None\n",
    "\n",
    "base_path = os.path.join(getcwd(), \"research/data/codex\")\n",
    "\n",
    "file_names = [f for f in listdir(base_path) if os.path.isfile(os.path.join(base_path, f)) and f.endswith(\".txt\")]"
   ]
  },
  {
   "cell_type": "code",
   "execution_count": 273,
   "metadata": {},
   "outputs": [],
   "source": [
    "tokens = set()\n",
    "for file_name in file_names:\n",
    "    with open(os.path.join(base_path, file_name), 'r') as f:\n",
    "        text = f.read()\n",
    "    [tokens.add(token) for token in text.split()]\n",
    "token_lengths = [len(token) for token in tokens]"
   ]
  },
  {
   "cell_type": "code",
   "execution_count": 367,
   "metadata": {},
   "outputs": [],
   "source": [
    "max_bin = 40\n",
    "hist, bins = np.histogram(token_lengths, np.arange(1, max_bin + 1))\n",
    "hist_norm = hist/np.sum(hist)\n",
    "hist_cum = np.cumsum(hist_norm)"
   ]
  },
  {
   "cell_type": "code",
   "execution_count": 368,
   "metadata": {
    "scrolled": true
   },
   "outputs": [
    {
     "data": {
      "text/plain": [
       "[<matplotlib.lines.Line2D at 0x128f35190>]"
      ]
     },
     "execution_count": 368,
     "metadata": {},
     "output_type": "execute_result"
    },
    {
     "data": {
      "image/png": "[encoded data removed]",
      "text/plain": [
       "<Figure size 720x288 with 2 Axes>"
      ]
     },
     "metadata": {
      "needs_background": "light"
     },
     "output_type": "display_data"
    }
   ],
   "source": [
    "fig = plt.figure(figsize=(10, 4))\n",
    "plt.subplot(121)\n",
    "plt.title(\"Token Lengths PDF\")\n",
    "plt.bar(bins[:-1], hist_norm)\n",
    "\n",
    "plt.subplot(122)\n",
    "plt.title(\"Token Lengths CDF\")\n",
    "plt.plot(bins[:-1], hist_cum)"
   ]
  },
  {
   "cell_type": "code",
   "execution_count": 369,
   "metadata": {},
   "outputs": [
    {
     "data": {
      "text/plain": [
       "[(1, 0.12),\n",
       " (2, 0.7),\n",
       " (3, 3.32),\n",
       " (4, 9.53),\n",
       " (5, 18.83),\n",
       " (6, 29.55),\n",
       " (7, 41.14),\n",
       " (8, 52.35),\n",
       " (9, 61.97),\n",
       " (10, 69.89),\n",
       " (11, 76.25),\n",
       " (12, 81.35),\n",
       " (13, 85.23),\n",
       " (14, 88.17),\n",
       " (15, 90.53),\n",
       " (16, 92.26),\n",
       " (17, 93.55),\n",
       " (18, 94.55),\n",
       " (19, 95.3),\n",
       " (20, 95.86),\n",
       " (21, 96.32),\n",
       " (22, 96.69),\n",
       " (23, 97.06),\n",
       " (24, 97.42),\n",
       " (25, 97.7),\n",
       " (26, 98.21),\n",
       " (27, 98.96),\n",
       " (28, 99.11),\n",
       " (29, 99.26),\n",
       " (30, 99.38),\n",
       " (31, 99.48),\n",
       " (32, 99.56),\n",
       " (33, 99.64),\n",
       " (34, 99.69),\n",
       " (35, 99.75),\n",
       " (36, 99.81),\n",
       " (37, 99.87),\n",
       " (38, 99.91),\n",
       " (39, 100.0)]"
      ]
     },
     "execution_count": 369,
     "metadata": {},
     "output_type": "execute_result"
    }
   ],
   "source": [
    "list(zip( bins[:-1], np.round(hist_cum * 100, 2)))"
   ]
  },
  {
   "cell_type": "markdown",
   "metadata": {},
   "source": [
    "Identifing an algorithm for named entity extraction."
   ]
  },
  {
   "cell_type": "code",
   "execution_count": 4,
   "metadata": {},
   "outputs": [],
   "source": [
    "def extract_entities(text):\n",
    "    '''\n",
    "    Identify entities and noun_chunks within the document,\n",
    "    and filter them such that there are no overlapping spans.\n",
    "    Also taking this opportunity to convert text to lower-case\n",
    "    to avoid having to do this later on.\n",
    "    '''\n",
    "    doc = nlp(text)\n",
    "    spans = spacy.util.filter_spans(\n",
    "        set(doc.ents).union(set(doc.noun_chunks)))\n",
    "    entities = [t.lower_ for t in [span for span in spans]]\n",
    "    return entities"
   ]
  },
  {
   "cell_type": "markdown",
   "metadata": {},
   "source": [
    "Identify unique entities across the corpus, and build a numeric index of each document and entity.\n",
    "The document and entitity indices will be used to reference values in a sparse matrix in a later step."
   ]
  },
  {
   "cell_type": "code",
   "execution_count": 202,
   "metadata": {},
   "outputs": [],
   "source": [
    "class Opts:\n",
    "    def __init__(self, init_from=None):\n",
    "        if init_from:\n",
    "            self.docs_m = init_from.docs_m\n",
    "            self.spans_n = init_from.spans_n\n",
    "            self.doc_index_m = init_from.doc_index_m\n",
    "            self.span_index_n = init_from.span_index_n\n",
    "        else:\n",
    "            self.docs_m = dict()\n",
    "            self.spans_n = dict()\n",
    "            self.doc_index_m = -1\n",
    "            self.span_index_n = -1\n",
    "        \n",
    "    def __str__(self):\n",
    "        return \"doc_index_m: {}, span_index_n: {}\".format(self.doc_index_m, self.span_index_n)\n",
    "    \n",
    "    def dump(self, file_name):\n",
    "        with open(file_name, 'bw') as f:\n",
    "            Pickler(f).dump(self)\n",
    "            \n",
    "    def load(self, file_name):\n",
    "        with open(file_name, 'br') as f:\n",
    "            self.__init__(Unpickler(f).load())"
   ]
  },
  {
   "cell_type": "code",
   "execution_count": 189,
   "metadata": {},
   "outputs": [],
   "source": [
    "opts = Opts()\n",
    "\n",
    "def inspect_file(file_name, o):\n",
    "    with open(os.path.join(base_path, file_name), 'r') as f:\n",
    "        text = f.read()\n",
    "    if not file_name in o.docs_m:\n",
    "        o.doc_index_m = o.doc_index_m + 1\n",
    "        o.docs_m[file_name] = o.doc_index_m\n",
    "    entities = extract_entities(text)\n",
    "    for entity in entities:\n",
    "        if not entity in o.spans_n:\n",
    "            o.span_index_n = o.span_index_n + 1\n",
    "            o.spans_n[entity] = o.span_index_n "
   ]
  },
  {
   "cell_type": "code",
   "execution_count": null,
   "metadata": {},
   "outputs": [],
   "source": [
    "futures = []\n",
    "with ThreadPoolExecutor(max_workers=MAX_WORKERS) as e:\n",
    "    for file_name in file_names[:DOC_LIMIT]:\n",
    "        futures.append(e.submit(inspect_file, file_name, opts))\n",
    "done, not_done = wait(futures, return_when=\"FIRST_EXCEPTION\")\n",
    "for d in done:\n",
    "    if d.exception():\n",
    "        [n.cancel() for n in not_done]\n",
    "        raise d.exception()\n",
    "print(\"done\")"
   ]
  },
  {
   "cell_type": "code",
   "execution_count": 196,
   "metadata": {},
   "outputs": [],
   "source": [
    "opts_file_name = os.path.join(os.getcwd(), \"research/data/doc_entity_indices.pickle\")"
   ]
  },
  {
   "cell_type": "code",
   "execution_count": null,
   "metadata": {},
   "outputs": [],
   "source": [
    "opts = Opts(init_from=opts) # make sure we're dumping whatever is currently in the repl's memory.\n",
    "opts.dump(opts_file_name)"
   ]
  },
  {
   "cell_type": "markdown",
   "metadata": {},
   "source": [
    "Pass through all of the documents a second time.\n",
    "This time tabulating the span (entity) frequency per document for all known entities across the corpus."
   ]
  },
  {
   "cell_type": "code",
   "execution_count": 258,
   "metadata": {},
   "outputs": [],
   "source": [
    "import random\n",
    "opts = Opts()\n",
    "opts.load(opts_file_name)"
   ]
  },
  {
   "cell_type": "code",
   "execution_count": 382,
   "metadata": {},
   "outputs": [
    {
     "data": {
      "text/plain": [
       "[('preseason top', 6815),\n",
       " ('storm team', 50017),\n",
       " ('todd a. price a protester', 31920),\n",
       " ('that same corner', 14659),\n",
       " ('a riverside roadway', 53149),\n",
       " ('apr 7 2020hiit workout', 49344),\n",
       " ('an additional $100,000', 31231),\n",
       " ('restaurant reviews', 16482),\n",
       " ('j.', 28624),\n",
       " ('× protesters', 59765)]"
      ]
     },
     "execution_count": 382,
     "metadata": {},
     "output_type": "execute_result"
    }
   ],
   "source": [
    "random.choices(list(opts.spans_n.items()), k=10)"
   ]
  },
  {
   "cell_type": "markdown",
   "metadata": {},
   "source": [
    "unicode literals\n",
    "symbols / tokens contianing symbols\n",
    "specific dates / times\n",
    "numbers\n",
    "spans starting with articles\n",
    "any span of more than 5 or so tokens\n",
    "any tokens over len 30 (exclusive)\n",
    "any tokens under len 4 (exclusive)"
   ]
  },
  {
   "cell_type": "code",
   "execution_count": null,
   "metadata": {},
   "outputs": [],
   "source": [
    "M = sparse.lil_matrix((len(opts.docs_m), len(opts.spans_n)))\n",
    "def analyze_corpus(file_name, matrix, o):\n",
    "    doc_index = o.docs_m[file_name]\n",
    "    with open(os.path.join(base_path, file_name), 'r') as f:\n",
    "        text = f.read().lower()\n",
    "    for span, span_index in o.spans_n.items():\n",
    "        matrix[doc_index, span_index] = text.count(span)"
   ]
  },
  {
   "cell_type": "code",
   "execution_count": null,
   "metadata": {},
   "outputs": [],
   "source": [
    "futures = []\n",
    "with ThreadPoolExecutor(max_workers=MAX_WORKERS) as e:\n",
    "    for file_name in file_names[:DOC_LIMIT]:\n",
    "        futures.append(e.submit(analyze_corpus, file_name, M, opts))\n",
    "done, not_done = wait(futures, return_when=\"FIRST_EXCEPTION\")\n",
    "for d in done:\n",
    "    if d.exception():\n",
    "        [n.cancel() for n in not_done]\n",
    "        raise d.exception()\n",
    "print(\"done\")   "
   ]
  },
  {
   "cell_type": "code",
   "execution_count": 8,
   "metadata": {},
   "outputs": [],
   "source": [
    "npz_file_name = os.path.join(os.getcwd(), \"research/data/corpus_entity_matrix.npz\")"
   ]
  },
  {
   "cell_type": "code",
   "execution_count": null,
   "metadata": {},
   "outputs": [],
   "source": [
    "sparse.save_npz(npz_file_name), M.tocsr())"
   ]
  },
  {
   "cell_type": "markdown",
   "metadata": {},
   "source": [
    "Checking the density of the matrix for sanity."
   ]
  },
  {
   "cell_type": "code",
   "execution_count": 111,
   "metadata": {},
   "outputs": [],
   "source": [
    "def density(M):\n",
    "    d = 100 * M.nnz / np.prod(M.shape)\n",
    "    print(\"Matrix density: {}%\".format(round(d,2)))"
   ]
  },
  {
   "cell_type": "code",
   "execution_count": 112,
   "metadata": {},
   "outputs": [
    {
     "name": "stdout",
     "output_type": "stream",
     "text": [
      "Matrix density: 1.28%\n"
     ]
    }
   ],
   "source": [
    "density(M)"
   ]
  },
  {
   "cell_type": "markdown",
   "metadata": {},
   "source": [
    "Calculate tfidf values within the matrix."
   ]
  },
  {
   "cell_type": "code",
   "execution_count": 169,
   "metadata": {},
   "outputs": [],
   "source": [
    "M = sparse.load_npz(npz_file_name)"
   ]
  },
  {
   "cell_type": "code",
   "execution_count": 170,
   "metadata": {},
   "outputs": [
    {
     "data": {
      "text/plain": [
       "(500, 63271)"
      ]
     },
     "execution_count": 170,
     "metadata": {},
     "output_type": "execute_result"
    }
   ],
   "source": [
    "M.shape"
   ]
  },
  {
   "cell_type": "code",
   "execution_count": 171,
   "metadata": {},
   "outputs": [],
   "source": [
    "AXIS_DOCS = 0 # rows\n",
    "AXIS_ENTS = 1 # columns"
   ]
  },
  {
   "cell_type": "code",
   "execution_count": 181,
   "metadata": {},
   "outputs": [],
   "source": [
    "def tfidf(M):\n",
    "    tf = sparse.csr_matrix(M / M.sum(axis=AXIS_ENTS))\n",
    "    N = M.shape[AXIS_DOCS]\n",
    "    Nt = np.ravel(M.astype(bool).sum(axis=AXIS_DOCS))\n",
    "    idf = sparse.csr_matrix(np.log10(N/Nt))\n",
    "    M1 = tf.multiply(idf)\n",
    "    M1.data = np.nan_to_num(M1.data)\n",
    "    M1.eliminate_zeros()\n",
    "    return M1"
   ]
  },
  {
   "cell_type": "code",
   "execution_count": 251,
   "metadata": {},
   "outputs": [
    {
     "name": "stderr",
     "output_type": "stream",
     "text": [
      "/Users/joe/Documents/code/rallymomentumindex/virtualenv/lib/python3.7/site-packages/scipy/sparse/base.py:599: RuntimeWarning: invalid value encountered in true_divide\n",
      "  return np.true_divide(self.todense(), other)\n"
     ]
    },
    {
     "name": "stdout",
     "output_type": "stream",
     "text": [
      "Matrix density: 1.28%\n"
     ]
    },
    {
     "data": {
      "text/plain": [
       "[(52176, 0.03598626672448025),\n",
       " (35753, 0.03505155849787037),\n",
       " (35754, 0.03505155849787037),\n",
       " (15819, 0.03468774700823451),\n",
       " (39247, 0.03416417727007619),\n",
       " (39248, 0.03416417727007619),\n",
       " (53273, 0.028712446854638498),\n",
       " (10233, 0.02672247529045563),\n",
       " (10235, 0.02672247529045563),\n",
       " (10236, 0.02672247529045563)]"
      ]
     },
     "execution_count": 251,
     "metadata": {},
     "output_type": "execute_result"
    }
   ],
   "source": [
    "M_tfidf = tfidf(M)\n",
    "density(M_tfidf)\n",
    "\n",
    "means = np.ravel(M_tfidf.sum(AXIS_DOCS) / (M_tfidf != 0).sum(AXIS_DOCS))\n",
    "ent_means = {k:v for (k, v) in enumerate(means)}\n",
    "ents_filtered = {k:v for (k,v) in ent_means.items() if v > 0}\n",
    "top_10=sorted(ents_filtered.items(), key=lambda x:x[1], reverse=True)[:10]\n",
    "top_10"
   ]
  },
  {
   "cell_type": "code",
   "execution_count": 252,
   "metadata": {},
   "outputs": [
    {
     "data": {
      "text/plain": [
       "('friday night | wnwo', 52176)"
      ]
     },
     "execution_count": 252,
     "metadata": {},
     "output_type": "execute_result"
    }
   ],
   "source": [
    "list(opts.spans_n.items())[52176]"
   ]
  },
  {
   "cell_type": "markdown",
   "metadata": {},
   "source": [
    "Testing tfidf function using data from https://en.wikipedia.org/wiki/Tf%E2%80%93idf"
   ]
  },
  {
   "cell_type": "code",
   "execution_count": 92,
   "metadata": {},
   "outputs": [
    {
     "name": "stdout",
     "output_type": "stream",
     "text": [
      "  (0, 0)\t1\n",
      "  (0, 1)\t1\n",
      "  (0, 2)\t2\n",
      "  (0, 3)\t1\n",
      "  (1, 0)\t1\n",
      "  (1, 1)\t1\n",
      "  (1, 4)\t2\n",
      "  (1, 5)\t3\n"
     ]
    }
   ],
   "source": [
    "N = sparse.csr_matrix(np.array([[1,1,2,1,0,0],\n",
    "                                [1,1,0,0,2,3]]))\n",
    "print(N)"
   ]
  },
  {
   "cell_type": "code",
   "execution_count": 97,
   "metadata": {},
   "outputs": [
    {
     "name": "stdout",
     "output_type": "stream",
     "text": [
      "  (0, 3)\t0.06020599913279624\n",
      "  (0, 2)\t0.12041199826559248\n",
      "  (1, 5)\t0.12901285528456335\n",
      "  (1, 4)\t0.08600857018970891\n"
     ]
    }
   ],
   "source": [
    "print(tfidf(N))"
   ]
  },
  {
   "cell_type": "code",
   "execution_count": null,
   "metadata": {},
   "outputs": [],
   "source": []
  }
 ],
 "metadata": {
  "kernelspec": {
   "display_name": "Python 3",
   "language": "python",
   "name": "python3"
  },
  "language_info": {
   "codemirror_mode": {
    "name": "ipython",
    "version": 3
   },
   "file_extension": ".py",
   "mimetype": "text/x-python",
   "name": "python",
   "nbconvert_exporter": "python",
   "pygments_lexer": "ipython3",
   "version": "3.7.7"
  }
 },
 "nbformat": 4,
 "nbformat_minor": 4
}
