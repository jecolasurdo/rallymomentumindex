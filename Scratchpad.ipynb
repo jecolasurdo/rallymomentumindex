{
 "cells": [
  {
   "cell_type": "markdown",
   "metadata": {},
   "source": [
    "# BLM Keyword Identification\n",
    "Sandboxing some simple keyword identification routines.\n",
    "Full scale work will probably not be done in a notebook, mostly exploration here."
   ]
  },
  {
   "cell_type": "code",
   "execution_count": 18,
   "metadata": {},
   "outputs": [],
   "source": [
    "from os import getcwd, listdir\n",
    "import os.path\n",
    "\n",
    "import spacy\n",
    "from scipy import sparse\n",
    "import numpy as np"
   ]
  },
  {
   "cell_type": "code",
   "execution_count": 2,
   "metadata": {},
   "outputs": [],
   "source": [
    "nlp = spacy.load(\"en_core_web_lg\")"
   ]
  },
  {
   "cell_type": "markdown",
   "metadata": {},
   "source": [
    "Gather a list of codex entries to analyze."
   ]
  },
  {
   "cell_type": "code",
   "execution_count": 49,
   "metadata": {},
   "outputs": [],
   "source": [
    "DOC_LIMIT = 5\n",
    "\n",
    "base_path = os.path.join(getcwd(), \"research/data/codex\")\n",
    "\n",
    "file_names = [f for f in listdir(base_path) if os.path.isfile(os.path.join(base_path, f)) and f.endswith(\".txt\")]"
   ]
  },
  {
   "cell_type": "markdown",
   "metadata": {},
   "source": [
    "The documents and \"spans\" (named entities) need to be assigned unique category numbers, so they can be operated upon numerically."
   ]
  },
  {
   "cell_type": "code",
   "execution_count": 50,
   "metadata": {},
   "outputs": [],
   "source": [
    "docs_m = dict()\n",
    "spans_n = dict()\n",
    "\n",
    "doc_index_m = -1\n",
    "span_index_n = -1\n",
    "for file_name in file_names[:DOC_LIMIT]:\n",
    "    with open(os.path.join(base_path, file_name), 'r') as f:\n",
    "        doc = nlp(f.read())\n",
    "    if not file_name in docs_m:\n",
    "        doc_index_m = doc_index_m + 1\n",
    "        docs_m[file_name] = doc_index_m\n",
    "    spans = spacy.util.filter_spans(\n",
    "        set(doc.ents).union(set(doc.noun_chunks)))\n",
    "    spans = [t.lower_ for t in [span for span in spans]]\n",
    "    for span in spans:\n",
    "        if not span in spans_n:\n",
    "            span_index_n = span_index_n + 1\n",
    "            spans_n[span] = span_index_n  "
   ]
  },
  {
   "cell_type": "markdown",
   "metadata": {},
   "source": [
    "Pass through all of the documents a second time.\n",
    "This time tabulating the span (entity) frequency per document for all known entities across the corpus."
   ]
  },
  {
   "cell_type": "code",
   "execution_count": 51,
   "metadata": {},
   "outputs": [],
   "source": [
    "M = sparse.lil_matrix((len(docs_m), len(spans_n)))\n",
    "for file_name in file_names[:DOC_LIMIT]:\n",
    "    doc_index = docs_m[file_name]\n",
    "    with open(os.path.join(base_path, file_name), 'r') as f:\n",
    "        text = f.read().lower()\n",
    "    for span, span_index in spans_n.items():\n",
    "        M[doc_index, span_index] = text.count(span)"
   ]
  },
  {
   "cell_type": "markdown",
   "metadata": {},
   "source": [
    "Checking the density of the matrix for sanity."
   ]
  },
  {
   "cell_type": "code",
   "execution_count": 52,
   "metadata": {},
   "outputs": [
    {
     "name": "stdout",
     "output_type": "stream",
     "text": [
      "Matrix density: 25.64%\n"
     ]
    }
   ],
   "source": [
    "density = 100 * M.nnz / np.prod(M.shape)\n",
    "print(\"Matrix density: {}%\".format(round(density,2)))"
   ]
  },
  {
   "cell_type": "markdown",
   "metadata": {},
   "source": [
    "Calculate tfidf values within the matrix."
   ]
  },
  {
   "cell_type": "code",
   "execution_count": null,
   "metadata": {},
   "outputs": [],
   "source": []
  }
 ],
 "metadata": {
  "kernelspec": {
   "display_name": "Python 3",
   "language": "python",
   "name": "python3"
  },
  "language_info": {
   "codemirror_mode": {
    "name": "ipython",
    "version": 3
   },
   "file_extension": ".py",
   "mimetype": "text/x-python",
   "name": "python",
   "nbconvert_exporter": "python",
   "pygments_lexer": "ipython3",
   "version": "3.7.7"
  }
 },
 "nbformat": 4,
 "nbformat_minor": 4
}
